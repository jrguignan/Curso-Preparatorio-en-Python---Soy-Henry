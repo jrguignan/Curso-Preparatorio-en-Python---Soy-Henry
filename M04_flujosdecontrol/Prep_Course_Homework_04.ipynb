{
 "cells": [
  {
   "attachments": {},
   "cell_type": "markdown",
   "metadata": {},
   "source": [
    "## Flujos de Control"
   ]
  },
  {
   "attachments": {},
   "cell_type": "markdown",
   "metadata": {},
   "source": [
    "1) Crear una variable que contenga un elemento del conjunto de números enteros y luego imprimir por pantalla si es mayor o menor a cero"
   ]
  },
  {
   "cell_type": "code",
   "execution_count": 4,
   "metadata": {},
   "outputs": [
    {
     "name": "stdout",
     "output_type": "stream",
     "text": [
      "Es mayor que cero\n"
     ]
    }
   ],
   "source": [
    "a=3\n",
    "\n",
    "if a>0:\n",
    "    print(\"Es mayor que cero\")\n",
    "else:\n",
    "    print(\"Es menor que cero\")    "
   ]
  },
  {
   "attachments": {},
   "cell_type": "markdown",
   "metadata": {},
   "source": [
    "2) Crear dos variables y un condicional que informe si son del mismo tipo de dato"
   ]
  },
  {
   "cell_type": "code",
   "execution_count": 3,
   "metadata": {},
   "outputs": [
    {
     "name": "stdout",
     "output_type": "stream",
     "text": [
      "Son el mismo tipo de dato\n"
     ]
    }
   ],
   "source": [
    "a=\"hola\"\n",
    "b=\"mundo\"\n",
    "\n",
    "if type(a) == type(b):\n",
    "    print(\"Son el mismo tipo de dato\")\n",
    "else:\n",
    "    print(\"Son distinto tipo de datos\")    "
   ]
  },
  {
   "attachments": {},
   "cell_type": "markdown",
   "metadata": {},
   "source": [
    "3) Para los valores enteros del 1 al 20, imprimir por pantalla si es par o impar"
   ]
  },
  {
   "cell_type": "code",
   "execution_count": 81,
   "metadata": {},
   "outputs": [
    {
     "name": "stdout",
     "output_type": "stream",
     "text": [
      "1 Es numero impar\n",
      "2 Es numero par\n",
      "3 Es numero impar\n",
      "4 Es numero par\n",
      "5 Es numero impar\n",
      "6 Es numero par\n",
      "7 Es numero impar\n",
      "8 Es numero par\n",
      "9 Es numero impar\n",
      "10 Es numero par\n",
      "11 Es numero impar\n",
      "12 Es numero par\n",
      "13 Es numero impar\n",
      "14 Es numero par\n",
      "15 Es numero impar\n",
      "16 Es numero par\n",
      "17 Es numero impar\n",
      "18 Es numero par\n",
      "19 Es numero impar\n",
      "20 Es numero par\n"
     ]
    }
   ],
   "source": [
    "for i in range(1,21):\n",
    "\n",
    "    if i%2 == 0:\n",
    "       print(i,\"Es numero par\")\n",
    "    else:\n",
    "       print(i,\"Es numero impar\")    "
   ]
  },
  {
   "attachments": {},
   "cell_type": "markdown",
   "metadata": {},
   "source": [
    "4) En un ciclo for mostrar para los valores entre 0 y 5 el resultado de elevarlo a la potencia igual a 3"
   ]
  },
  {
   "cell_type": "code",
   "execution_count": 10,
   "metadata": {},
   "outputs": [
    {
     "name": "stdout",
     "output_type": "stream",
     "text": [
      "0\n",
      "1\n",
      "8\n",
      "27\n",
      "64\n"
     ]
    }
   ],
   "source": [
    "for i in range(0,5):\n",
    "    print(i**3)"
   ]
  },
  {
   "attachments": {},
   "cell_type": "markdown",
   "metadata": {},
   "source": [
    "5) Crear una variable que contenga un número entero y realizar un ciclo for la misma cantidad de ciclos"
   ]
  },
  {
   "cell_type": "code",
   "execution_count": 79,
   "metadata": {},
   "outputs": [
    {
     "name": "stdout",
     "output_type": "stream",
     "text": [
      "1\n",
      "2\n",
      "3\n",
      "4\n",
      "5\n"
     ]
    }
   ],
   "source": [
    "a=5\n",
    "for i in range(1,a+1):\n",
    "    print(i)"
   ]
  },
  {
   "attachments": {},
   "cell_type": "markdown",
   "metadata": {},
   "source": [
    "6) Utilizar un ciclo while para realizar el factorial de un número guardado en una variable, sólo si la variable contiene un número entero mayor a 0"
   ]
  },
  {
   "cell_type": "code",
   "execution_count": 96,
   "metadata": {},
   "outputs": [
    {
     "name": "stdout",
     "output_type": "stream",
     "text": [
      "Factorial de  5 es: 120\n"
     ]
    }
   ],
   "source": [
    "a=5\n",
    "b=a\n",
    "if type(a)==int and a>0:\n",
    "   f=1\n",
    "   while a>0:\n",
    "      f=f*a  \n",
    "      a-=1\n",
    "   print(\"Factorial de \", b , \"es:\", f)   \n",
    "else:\n",
    "   print(\"Solo se calcula con numeros mayores a 0\")   "
   ]
  },
  {
   "attachments": {},
   "cell_type": "markdown",
   "metadata": {},
   "source": [
    "7) Crear un ciclo for dentro de un ciclo while"
   ]
  },
  {
   "cell_type": "code",
   "execution_count": 36,
   "metadata": {},
   "outputs": [
    {
     "name": "stdout",
     "output_type": "stream",
     "text": [
      "1\n",
      "2\n",
      "3\n",
      "1\n",
      "2\n",
      "1\n"
     ]
    }
   ],
   "source": [
    "a=3\n",
    "while a>0:\n",
    "    for i in range(1,a+1):\n",
    "        print(i)\n",
    "    a-=1    "
   ]
  },
  {
   "attachments": {},
   "cell_type": "markdown",
   "metadata": {},
   "source": [
    "8) Crear un ciclo while dentro de un ciclo for"
   ]
  },
  {
   "cell_type": "code",
   "execution_count": 46,
   "metadata": {},
   "outputs": [
    {
     "name": "stdout",
     "output_type": "stream",
     "text": [
      "1\n",
      "2\n",
      "1\n",
      "3\n",
      "2\n",
      "1\n"
     ]
    }
   ],
   "source": [
    "a=3\n",
    "for i in range(1,a+1):\n",
    "    while i>0:\n",
    "        print(i)\n",
    "        i-=1"
   ]
  },
  {
   "attachments": {},
   "cell_type": "markdown",
   "metadata": {},
   "source": [
    "9) Imprimir los números primos existentes entre 0 y 30"
   ]
  },
  {
   "cell_type": "code",
   "execution_count": 40,
   "metadata": {},
   "outputs": [
    {
     "name": "stdout",
     "output_type": "stream",
     "text": [
      "2\n",
      "3\n",
      "5\n",
      "7\n",
      "11\n",
      "13\n",
      "17\n",
      "19\n",
      "23\n",
      "29\n",
      "30\n"
     ]
    }
   ],
   "source": [
    "for i in range(0,30):\n",
    "    b=i\n",
    "    c=0\n",
    "    while b>1:\n",
    "        if i%b==0:\n",
    "            c+=1\n",
    "        b-=1 \n",
    "    if c==1:\n",
    "         print(i)    \n",
    "        \n",
    "        "
   ]
  },
  {
   "attachments": {},
   "cell_type": "markdown",
   "metadata": {},
   "source": [
    "10) ¿Se puede mejorar el proceso del punto 9? Utilizar las sentencias break y/ó continue para tal fin"
   ]
  },
  {
   "cell_type": "code",
   "execution_count": 41,
   "metadata": {},
   "outputs": [
    {
     "name": "stdout",
     "output_type": "stream",
     "text": [
      "2\n",
      "3\n",
      "5\n",
      "7\n",
      "11\n",
      "13\n",
      "17\n",
      "19\n",
      "23\n",
      "29\n",
      "27\n"
     ]
    }
   ],
   "source": [
    "#Si\n",
    "for i in range(2,30):\n",
    "   num = True\n",
    "   for j in range (2,i):\n",
    "      if i%j == 0:\n",
    "         num = False\n",
    "         break\n",
    "   if num == True:\n",
    "      print(i)  \n",
    "\n",
    "\n",
    "       "
   ]
  },
  {
   "attachments": {},
   "cell_type": "markdown",
   "metadata": {},
   "source": [
    "11) En los puntos 9 y 10, se diseño un código que encuentra números primos y además se lo optimizó. ¿Es posible saber en qué medida se optimizó?"
   ]
  },
  {
   "cell_type": "code",
   "execution_count": 50,
   "metadata": {},
   "outputs": [
    {
     "name": "stdout",
     "output_type": "stream",
     "text": [
      "Vueltas del bucle normal:  406\n",
      "Vueltas del bucle con break 134\n",
      "Se optimizo en un:  0.33004926108374383\n"
     ]
    }
   ],
   "source": [
    "n_1=0\n",
    "for i in range(0,30):\n",
    "    b=i\n",
    "    c=0\n",
    "    while b>1:\n",
    "        n_1 +=1\n",
    "        if i%b==0:\n",
    "            c+=1\n",
    "        b-=1 \n",
    "    #if c==1:\n",
    "        #print(i)  \n",
    "print(\"Vueltas del bucle normal: \", n_1 )         \n",
    "\n",
    "\n",
    "n_2=0\n",
    "for i in range(2,30):\n",
    "   num = True\n",
    "   for j in range (2,i):\n",
    "      n_2+=1\n",
    "\n",
    "      if i%j == 0:\n",
    "         num = False\n",
    "         break\n",
    "   #if num == True:\n",
    "      #print(i)    \n",
    "print(\"Vueltas del bucle con break\", n_2)   \n",
    "\n",
    "print(\"Se optimizo en un: \", n_2/n_1)"
   ]
  },
  {
   "attachments": {},
   "cell_type": "markdown",
   "metadata": {},
   "source": [
    "12) Aplicando continue, armar un ciclo while que solo imprima los valores divisibles por 12, dentro del rango de números de 100 a 300"
   ]
  },
  {
   "cell_type": "code",
   "execution_count": 3,
   "metadata": {},
   "outputs": [
    {
     "name": "stdout",
     "output_type": "stream",
     "text": [
      "108\n",
      "120\n",
      "132\n",
      "144\n",
      "156\n",
      "168\n",
      "180\n",
      "192\n",
      "204\n",
      "216\n",
      "228\n",
      "240\n",
      "252\n",
      "264\n",
      "276\n",
      "288\n",
      "300\n"
     ]
    }
   ],
   "source": [
    "x=99\n",
    "while x<=300:\n",
    "    x+=1\n",
    "    if x%12!=0:\n",
    "       continue\n",
    "      \n",
    "    print(x)"
   ]
  },
  {
   "attachments": {},
   "cell_type": "markdown",
   "metadata": {},
   "source": [
    "13) Utilizar la función **input()** que permite hacer ingresos por teclado, para encontrar números primos y dar la opción al usario de buscar el siguiente"
   ]
  },
  {
   "cell_type": "code",
   "execution_count": 52,
   "metadata": {},
   "outputs": [
    {
     "name": "stdout",
     "output_type": "stream",
     "text": [
      "7\n",
      "11\n",
      "13\n",
      "17\n"
     ]
    }
   ],
   "source": [
    "a=int(input(\"ingrese un numero:\"))\n",
    "x=a-1\n",
    "while True:\n",
    "      c=0\n",
    "      x+=1\n",
    "      for i in range(2,x-1): \n",
    "            if x%i==0:  \n",
    "               c+=1  \n",
    "                \n",
    "      if c==0:\n",
    "         print(x)\n",
    "      else:\n",
    "           continue\n",
    "\n",
    "      z=int(input(\"1 continuar, 0 para terminar\"))\n",
    "      if z==0:\n",
    "           break\n",
    "          \n",
    "    "
   ]
  },
  {
   "attachments": {},
   "cell_type": "markdown",
   "metadata": {},
   "source": [
    "14) Crear un ciclo while que encuentre dentro del rango de 100 a 300 el primer número divisible por 3 y además múltiplo de 6"
   ]
  },
  {
   "cell_type": "code",
   "execution_count": 92,
   "metadata": {},
   "outputs": [
    {
     "name": "stdout",
     "output_type": "stream",
     "text": [
      "102\n"
     ]
    }
   ],
   "source": [
    "x=100\n",
    "while x<300:\n",
    "    if x%3==0 and x%6==0:\n",
    "        break\n",
    "    x+=1\n",
    "print(x)    "
   ]
  }
 ],
 "metadata": {
  "interpreter": {
   "hash": "c85384e4cb51c8b72350f3a8712cc8351fdc3955e32a27f9b60c6242ab125f01"
  },
  "kernelspec": {
   "display_name": "Python 3 (ipykernel)",
   "language": "python",
   "name": "python3"
  },
  "language_info": {
   "codemirror_mode": {
    "name": "ipython",
    "version": 3
   },
   "file_extension": ".py",
   "mimetype": "text/x-python",
   "name": "python",
   "nbconvert_exporter": "python",
   "pygments_lexer": "ipython3",
   "version": "3.11.4"
  }
 },
 "nbformat": 4,
 "nbformat_minor": 4
}
