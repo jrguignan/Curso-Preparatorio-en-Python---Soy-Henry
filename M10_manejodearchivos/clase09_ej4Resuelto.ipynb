{
 "cells": [
  {
   "cell_type": "code",
   "execution_count": null,
   "metadata": {},
   "outputs": [],
   "source": [
    "import os\n",
    "\n",
    "#Crear carpeta clase09_montañas_altas\n",
    "os.makedirs(\"clase09Resuelto_montañas_altas\")\n",
    "\n",
    "#Mostrar tamano de archivo\n",
    "print(os.path.getsize(\"Clase09_ej3Resuelto.csv\")/1024 , \"MB\")"
   ]
  },
  {
   "cell_type": "code",
   "execution_count": null,
   "metadata": {},
   "outputs": [],
   "source": [
    "#Muestra carpetas del directorio de trabajo\n",
    "os.listdir(\"./\")"
   ]
  },
  {
   "cell_type": "code",
   "execution_count": null,
   "metadata": {},
   "outputs": [],
   "source": [
    "#Copiar archivo clase09_ej3Resuelto.csv en el nuevo directorio\n",
    "os.system('copy clase09_ej3Resuelto.csv clase09Resuelto_montañas_altas')"
   ]
  },
  {
   "cell_type": "code",
   "execution_count": null,
   "metadata": {},
   "outputs": [],
   "source": [
    "#Listar Carpeta\n",
    "os.listdir(\"C:/Users/jrgui/Documents/GitHub/Python-Prep/M10_manejodearchivos/clase09Resuelto_montañas_altas\")"
   ]
  }
 ],
 "metadata": {
  "kernelspec": {
   "display_name": "Python 3",
   "language": "python",
   "name": "python3"
  },
  "language_info": {
   "name": "python",
   "version": "3.11.4"
  },
  "orig_nbformat": 4
 },
 "nbformat": 4,
 "nbformat_minor": 2
}
