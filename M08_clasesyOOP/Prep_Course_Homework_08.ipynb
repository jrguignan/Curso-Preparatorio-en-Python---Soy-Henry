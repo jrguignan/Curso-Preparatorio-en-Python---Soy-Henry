{
 "cells": [
  {
   "attachments": {},
   "cell_type": "markdown",
   "metadata": {},
   "source": [
    "## Clases y Programación Orientada a Objetos"
   ]
  },
  {
   "attachments": {},
   "cell_type": "markdown",
   "metadata": {},
   "source": [
    "1) Crear la clase vehículo que contenga los atributos:<br>\n",
    "Color<br>\n",
    "Si es moto, auto, camioneta ó camión<br>\n",
    "Cilindrada del motor"
   ]
  },
  {
   "cell_type": "code",
   "execution_count": 1,
   "metadata": {},
   "outputs": [],
   "source": [
    "class Vehiculo:\n",
    "    def __init__(self, color,tipo_vehiculo,cilindrada):\n",
    "        self.color = color\n",
    "        self.tipo_vehiculo = tipo_vehiculo\n",
    "        self.cilindrada = cilindrada "
   ]
  },
  {
   "attachments": {},
   "cell_type": "markdown",
   "metadata": {},
   "source": [
    "2) A la clase Vehiculo creada en el punto 1, agregar los siguientes métodos:<br>\n",
    "Acelerar<br>\n",
    "Frenar<br>\n",
    "Doblar<br>"
   ]
  },
  {
   "cell_type": "code",
   "execution_count": 4,
   "metadata": {},
   "outputs": [],
   "source": [
    "class Vehiculo:\n",
    "    def __init__(self, color,tipo_vehiculo,cilindrada):\n",
    "        self.color = color\n",
    "        self.tipo_vehiculo = tipo_vehiculo\n",
    "        self.cilindrada = cilindrada \n",
    "        self.velocidad = 0\n",
    "        self.direccion = 0\n",
    "\n",
    "    def Acelerar(self,vel):\n",
    "        self.velocidad +=vel\n",
    "\n",
    "    def Frenar(self,vel):\n",
    "        self.velocidad -=vel\n",
    "\n",
    "    def Doblar(self, numcalles):\n",
    "        self.direccion +=numcalles \n",
    "\n"
   ]
  },
  {
   "attachments": {},
   "cell_type": "markdown",
   "metadata": {},
   "source": [
    "3) Instanciar 3 objetos de la clase vehículo y ejecutar sus métodos, probar luego el resultado"
   ]
  },
  {
   "cell_type": "code",
   "execution_count": 6,
   "metadata": {},
   "outputs": [],
   "source": [
    "V1 = Vehiculo(\"verde\",\"Moto\", 2)\n",
    "V2 = Vehiculo(\"Monociclo\", \"Amarillo\",0)\n",
    "V3 = Vehiculo(\"Carro\",\"Negro\",4)\n",
    "\n",
    "V1.Acelerar(100)\n",
    "V2.Acelerar(50)\n",
    "V3.Acelerar(10)\n",
    "V3.Doblar(20)\n",
    "V1.Frenar(10)\n",
    "V2.Doblar(10)\n",
    "V1.Doblar(15)"
   ]
  },
  {
   "attachments": {},
   "cell_type": "markdown",
   "metadata": {},
   "source": [
    "4) Agregar a la clase Vehiculo, un método que muestre su estado, es decir, a que velocidad se encuentra y su dirección. Y otro método que muestre color, tipo y cilindrada"
   ]
  },
  {
   "cell_type": "code",
   "execution_count": 16,
   "metadata": {},
   "outputs": [
    {
     "name": "stdout",
     "output_type": "stream",
     "text": [
      "Soy un@: Carro De color: Blanco de numero de cilindros: 4\n",
      "None\n",
      "Soy un@: Carro voy a: 0 km/h y estoy 0 calles de distancia\n",
      "None\n",
      "Soy un@: Carro voy a: 25 km/h y estoy 15 calles de distancia\n",
      "None\n"
     ]
    }
   ],
   "source": [
    "class Vehiculo:\n",
    "    def __init__(self, color,tipo_vehiculo,cilindrada):\n",
    "        self.color = color\n",
    "        self.tipo_vehiculo = tipo_vehiculo\n",
    "        self.cilindrada = cilindrada \n",
    "        self.velocidad = 0\n",
    "        self.direccion = 0\n",
    "\n",
    "    def Acelerar(self,vel):\n",
    "        self.velocidad +=vel\n",
    "\n",
    "    def Frenar(self,vel):\n",
    "        self.velocidad -=vel\n",
    "\n",
    "    def Doblar(self, numcalles):\n",
    "        self.direccion +=numcalles \n",
    "\n",
    "    def Estado(self):\n",
    "        print(\"Soy un@:\", self.tipo_vehiculo, \"voy a:\", self.velocidad,\"km/h\", \"y estoy\",self.direccion,\"calles de distancia\")    \n",
    "\n",
    "    def Info(self):\n",
    "        print(\"Soy un@:\",self.tipo_vehiculo,\"De color:\",self.color,\"de numero de cilindros:\", self.cilindrada)    \n",
    "\n",
    "\n",
    "V1 = Vehiculo(\"Blanco\",\"Carro\",4)\n",
    "print(V1.Info())\n",
    "\n",
    "print(V1.Estado())\n",
    "\n",
    "V1.Acelerar(25)\n",
    "V1.Doblar(15)\n",
    "\n",
    "print(V1.Estado())\n"
   ]
  },
  {
   "attachments": {},
   "cell_type": "markdown",
   "metadata": {},
   "source": [
    "5) Crear una clase que permita utilizar las funciones creadas en la práctica del módulo 7<br>\n",
    "Verificar Primo<br>\n",
    "Valor modal<br>\n",
    "Conversión grados<br>\n",
    "Factorial<br>"
   ]
  },
  {
   "cell_type": "code",
   "execution_count": 83,
   "metadata": {},
   "outputs": [],
   "source": [
    "class Funciones:\n",
    "\n",
    "    def __init__(self):\n",
    "        pass\n",
    "\n",
    "#Verificar Primo\n",
    "    def primo(self,a):\n",
    "        b=True\n",
    "        for i in range(2,a):  \n",
    "            if a%i==0:\n",
    "               b=False\n",
    "               break \n",
    "          \n",
    "        return b   \n",
    "\n",
    "#Valor Modal\n",
    "    def cuenta_repetidos(self,lista):\n",
    "        valor=[]\n",
    "        cuenta=[]\n",
    "        for i in lista:\n",
    "            valor.append(i)\n",
    "            cuenta.append(lista.count(i))\n",
    "\n",
    "        moda=valor[cuenta.index(max(cuenta))]   \n",
    "        repeticiones=max(cuenta) \n",
    "\n",
    "        return moda,repeticiones\n",
    "\n",
    "   \n",
    "\n",
    "#Factorial\n",
    "    def factorial(self,num):\n",
    "    #Permite guardar una descriptcion de la funcion al usar help()\n",
    "      ''' \n",
    "       Calcula el factorial de un numero\n",
    "       '''\n",
    "      if num>1:\n",
    "          num = num*self.factorial(num-1)\n",
    "\n",
    "      return num    \n",
    "\n",
    "    def conversor_temperatura(self,v,e,s):\n",
    "     if e==\"Celsius\":\n",
    "        unidad_e=\"Grados Celsius\"\n",
    "        if s==\"Farenheit\":\n",
    "           salida=(v*9/5)+32\n",
    "           unidad_s=\"Grados Farenheit\"\n",
    "        elif s==\"Kelvin\":\n",
    "           salida=v+273.15\n",
    "           unidad_s=\"Grados Kelvin\"\n",
    "        else: \n",
    "           salida=v\n",
    "           unidad_s=\"Grados Celsius\"  \n",
    "\n",
    "\n",
    "\n",
    "     elif e==\"Farenheit\":\n",
    "        unidad_e=\"Grados Farenheit\"\n",
    "        if s==\"Celsius\":\n",
    "            salida=(v-32)*5/9\n",
    "            unidad_s=\"Grados Celsius\"\n",
    "        elif s==\"Kelvin\":\n",
    "            salida=((v-32)*5/9)+273.15\n",
    "            unidad_s=\"Grados Kelvin\"\n",
    "        else: \n",
    "            salida=v\n",
    "            unidad_s=\"Grados Farenheit\"   \n",
    "\n",
    "\n",
    "\n",
    "     elif e==\"Kelvin\":\n",
    "        unidad_e=\"Grados Kelvin\"\n",
    "        if s==\"Celsius\":    \n",
    "            salida=v-273.15\n",
    "            unidad_s=\"Grados Celsius\"\n",
    "        elif s==\"Farenheit\":\n",
    "            salida=((v-273.15)*9/5)+32\n",
    "            unidad_s=\"Grados Farenheit\" \n",
    "        else:  \n",
    "            salida=v\n",
    "            unidad_s=\"Grados Kelvin\"   \n",
    "\n",
    "     else:\n",
    "        print(\"Expresion de Temperatura  No Valida\")    \n",
    "\n",
    "     sal=round(salida,4)        \n",
    "\n",
    "     return sal,unidad_s   \n",
    "\n",
    "\n"
   ]
  },
  {
   "attachments": {},
   "cell_type": "markdown",
   "metadata": {},
   "source": [
    "6) Probar las funciones incorporadas en la clase del punto 5"
   ]
  },
  {
   "cell_type": "code",
   "execution_count": 84,
   "metadata": {},
   "outputs": [
    {
     "name": "stdout",
     "output_type": "stream",
     "text": [
      "True\n",
      "(5, 3)\n",
      "120\n"
     ]
    },
    {
     "data": {
      "text/plain": [
       "(297.65, 'Grados Kelvin')"
      ]
     },
     "execution_count": 84,
     "metadata": {},
     "output_type": "execute_result"
    }
   ],
   "source": [
    "FE = Funciones()\n",
    "\n",
    "print(FE.primo(11))\n",
    "\n",
    "lis=[2,3,6,8,7,9,5,5,4,2,5,]\n",
    "\n",
    "print(FE.cuenta_repetidos(lis))\n",
    "\n",
    "print(FE.factorial(5))\n",
    "\n",
    "FE.conversor_temperatura(24.5,\"Celsius\",\"Kelvin\")"
   ]
  },
  {
   "attachments": {},
   "cell_type": "markdown",
   "metadata": {},
   "source": [
    "7) Es necesario que la clase creada en el punto 5 contenga una lista, sobre la cual se apliquen las funciones incorporadas"
   ]
  },
  {
   "cell_type": "code",
   "execution_count": 86,
   "metadata": {},
   "outputs": [],
   "source": [
    "class Funciones:\n",
    "\n",
    "    def __init__(self,lista_n):\n",
    "        self.lista=lista_n\n",
    "\n",
    "    def primo(self):\n",
    "        for i in self.lista:\n",
    "            if (self.__primo(i)):\n",
    "                print('El elemento', i, 'SI es un numero primo')\n",
    "            else:\n",
    "                print('El elemento', i, 'NO es un numero primo')  \n",
    "\n",
    "    def factorial(self):\n",
    "        for i in self.lista:\n",
    "            print('El factorial de ', i, 'es', self.__factorial(i))  \n",
    "\n",
    "    def conversor_temperatura(self, origen, destino):\n",
    "        for i in self.lista:\n",
    "            print(i, 'grados', origen, 'son', self.__conversor_temperatura(i, origen, destino),'grados',destino)    \n",
    "                            \n",
    "\n",
    "#Verificar Primo\n",
    "    def __primo(self,a):\n",
    "        b=True\n",
    "        for i in range(2,a):  \n",
    "            if a%i==0:\n",
    "               b=False\n",
    "               break \n",
    "          \n",
    "        return b   \n",
    "\n",
    "#Valor Modal\n",
    "    def cuenta_repetidos(self):\n",
    "        valor=[]\n",
    "        cuenta=[]\n",
    "        for i in self.lista:\n",
    "            valor.append(i)\n",
    "            cuenta.append(self.lista.count(i))\n",
    "\n",
    "        moda=valor[cuenta.index(max(cuenta))]   \n",
    "        repeticiones=max(cuenta) \n",
    "\n",
    "        return moda,repeticiones\n",
    "\n",
    "   \n",
    "\n",
    "#Factorial\n",
    "    def __factorial(self,num):\n",
    "    #Permite guardar una descriptcion de la funcion al usar help()\n",
    "      ''' \n",
    "       Calcula el factorial de un numero\n",
    "       '''\n",
    "      if num>1:\n",
    "          num = num*self.__factorial(num-1)\n",
    "\n",
    "      return num     \n",
    "\n",
    "#Conversor de Temperatura\n",
    "    def __conversor_temperatura(self,v,e,s):\n",
    "     if e==\"Celsius\":\n",
    "        unidad_e=\"Grados Celsius\"\n",
    "        if s==\"Farenheit\":\n",
    "           salida=(v*9/5)+32\n",
    "           unidad_s=\"Grados Farenheit\"\n",
    "        elif s==\"Kelvin\":\n",
    "           salida=v+273.15\n",
    "           unidad_s=\"Grados Kelvin\"\n",
    "        else: \n",
    "           salida=v\n",
    "           unidad_s=\"Grados Celsius\"  \n",
    "\n",
    "\n",
    "\n",
    "     elif e==\"Farenheit\":\n",
    "        unidad_e=\"Grados Farenheit\"\n",
    "        if s==\"Celsius\":\n",
    "            salida=(v-32)*5/9\n",
    "            unidad_s=\"Grados Celsius\"\n",
    "        elif s==\"Kelvin\":\n",
    "            salida=((v-32)*5/9)+273.15\n",
    "            unidad_s=\"Grados Kelvin\"\n",
    "        else: \n",
    "            salida=v\n",
    "            unidad_s=\"Grados Farenheit\"   \n",
    "\n",
    "\n",
    "\n",
    "     elif e==\"Kelvin\":\n",
    "        unidad_e=\"Grados Kelvin\"\n",
    "        if s==\"Celsius\":    \n",
    "            salida=v-273.15\n",
    "            unidad_s=\"Grados Celsius\"\n",
    "        elif s==\"Farenheit\":\n",
    "            salida=((v-273.15)*9/5)+32\n",
    "            unidad_s=\"Grados Farenheit\" \n",
    "        else:  \n",
    "            salida=v\n",
    "            unidad_s=\"Grados Kelvin\"   \n",
    "\n",
    "     else:\n",
    "        print(\"Expresion de Temperatura  No Valida\")    \n",
    "\n",
    "     sal=round(salida,4)        \n",
    "\n",
    "     return sal"
   ]
  },
  {
   "cell_type": "code",
   "execution_count": 91,
   "metadata": {},
   "outputs": [
    {
     "name": "stdout",
     "output_type": "stream",
     "text": [
      "El elemento 2 SI es un numero primo\n",
      "El elemento 3 SI es un numero primo\n",
      "El elemento 7 SI es un numero primo\n",
      "El elemento 5 SI es un numero primo\n",
      "El elemento 9 NO es un numero primo\n",
      "El elemento 6 NO es un numero primo\n",
      "El elemento 4 NO es un numero primo\n",
      "El elemento 1 SI es un numero primo\n",
      "El elemento 5 SI es un numero primo\n",
      "El elemento 9 NO es un numero primo\n",
      "El elemento 9 NO es un numero primo\n"
     ]
    }
   ],
   "source": [
    "lis=Funciones([2,3,7,5,9,6,4,1,5,9,9])\n",
    "\n",
    "lis.primo()"
   ]
  },
  {
   "cell_type": "code",
   "execution_count": 92,
   "metadata": {},
   "outputs": [
    {
     "name": "stdout",
     "output_type": "stream",
     "text": [
      "El valor modal es 9 y se repite 3 veces\n"
     ]
    }
   ],
   "source": [
    "moda,repe=lis.cuenta_repetidos()\n",
    "print('El valor modal es', moda, 'y se repite', repe, 'veces')\n",
    "\n",
    "\n"
   ]
  },
  {
   "cell_type": "code",
   "execution_count": 90,
   "metadata": {},
   "outputs": [
    {
     "name": "stdout",
     "output_type": "stream",
     "text": [
      "El factorial de  2 es 2\n",
      "El factorial de  3 es 6\n",
      "El factorial de  7 es 5040\n",
      "El factorial de  5 es 120\n",
      "El factorial de  9 es 362880\n",
      "El factorial de  6 es 720\n",
      "El factorial de  4 es 24\n",
      "El factorial de  1 es 1\n",
      "El factorial de  5 es 120\n",
      "El factorial de  9 es 362880\n",
      "El factorial de  9 es 362880\n"
     ]
    }
   ],
   "source": [
    "lis.factorial()"
   ]
  },
  {
   "cell_type": "code",
   "execution_count": 89,
   "metadata": {},
   "outputs": [
    {
     "name": "stdout",
     "output_type": "stream",
     "text": [
      "2 grados Celsius son 35.6 grados Farenheit\n",
      "3 grados Celsius son 37.4 grados Farenheit\n",
      "7 grados Celsius son 44.6 grados Farenheit\n",
      "5 grados Celsius son 41.0 grados Farenheit\n",
      "9 grados Celsius son 48.2 grados Farenheit\n",
      "6 grados Celsius son 42.8 grados Farenheit\n",
      "4 grados Celsius son 39.2 grados Farenheit\n",
      "1 grados Celsius son 33.8 grados Farenheit\n",
      "5 grados Celsius son 41.0 grados Farenheit\n",
      "9 grados Celsius son 48.2 grados Farenheit\n",
      "9 grados Celsius son 48.2 grados Farenheit\n"
     ]
    }
   ],
   "source": [
    "lis.conversor_temperatura(\"Celsius\", \"Farenheit\")"
   ]
  },
  {
   "attachments": {},
   "cell_type": "markdown",
   "metadata": {},
   "source": [
    "8) Crear un archivo .py aparte y ubicar allí la clase generada en el punto anterior. Luego realizar la importación del módulo y probar alguna de sus funciones"
   ]
  },
  {
   "cell_type": "code",
   "execution_count": 4,
   "metadata": {},
   "outputs": [
    {
     "name": "stdout",
     "output_type": "stream",
     "text": [
      "El elemento 5 SI es un numero primo\n",
      "El elemento 6 NO es un numero primo\n",
      "El elemento 8 NO es un numero primo\n",
      "El elemento 11 SI es un numero primo\n",
      "El elemento 12 NO es un numero primo\n",
      "El elemento 15 NO es un numero primo\n",
      "El elemento 12 NO es un numero primo\n",
      "El elemento 5 SI es un numero primo\n",
      "El elemento 5 SI es un numero primo\n",
      "El elemento 7 SI es un numero primo\n",
      "El elemento 7 SI es un numero primo\n",
      "El elemento 7 SI es un numero primo\n",
      "El valor modal es 5 y se repite 3 veces\n",
      "El factorial de  5 es 120\n",
      "El factorial de  6 es 720\n",
      "El factorial de  8 es 40320\n",
      "El factorial de  11 es 39916800\n",
      "El factorial de  12 es 479001600\n",
      "El factorial de  15 es 1307674368000\n",
      "El factorial de  12 es 479001600\n",
      "El factorial de  5 es 120\n",
      "El factorial de  5 es 120\n",
      "El factorial de  7 es 5040\n",
      "El factorial de  7 es 5040\n",
      "El factorial de  7 es 5040\n",
      "5 grados Celsius son 278.15 grados Kelvin\n",
      "6 grados Celsius son 279.15 grados Kelvin\n",
      "8 grados Celsius son 281.15 grados Kelvin\n",
      "11 grados Celsius son 284.15 grados Kelvin\n",
      "12 grados Celsius son 285.15 grados Kelvin\n",
      "15 grados Celsius son 288.15 grados Kelvin\n",
      "12 grados Celsius son 285.15 grados Kelvin\n",
      "5 grados Celsius son 278.15 grados Kelvin\n",
      "5 grados Celsius son 278.15 grados Kelvin\n",
      "7 grados Celsius son 280.15 grados Kelvin\n",
      "7 grados Celsius son 280.15 grados Kelvin\n",
      "7 grados Celsius son 280.15 grados Kelvin\n"
     ]
    }
   ],
   "source": [
    "from Funciones import *\n",
    "\n",
    "lista=Funciones([5,6,8,11,12,15,12,5,5,7,7,7])\n",
    "\n",
    "lista.primo()\n",
    "\n",
    "moda,repe=lista.cuenta_repetidos()\n",
    "print('El valor modal es', moda, 'y se repite', repe, 'veces')\n",
    "\n",
    "lista.factorial()\n",
    "\n",
    "lista.conversor_temperatura(\"Celsius\", \"Kelvin\")"
   ]
  }
 ],
 "metadata": {
  "interpreter": {
   "hash": "c85384e4cb51c8b72350f3a8712cc8351fdc3955e32a27f9b60c6242ab125f01"
  },
  "kernelspec": {
   "display_name": "Python 3 (ipykernel)",
   "language": "python",
   "name": "python3"
  },
  "language_info": {
   "codemirror_mode": {
    "name": "ipython",
    "version": 3
   },
   "file_extension": ".py",
   "mimetype": "text/x-python",
   "name": "python",
   "nbconvert_exporter": "python",
   "pygments_lexer": "ipython3",
   "version": "3.11.4"
  }
 },
 "nbformat": 4,
 "nbformat_minor": 4
}
