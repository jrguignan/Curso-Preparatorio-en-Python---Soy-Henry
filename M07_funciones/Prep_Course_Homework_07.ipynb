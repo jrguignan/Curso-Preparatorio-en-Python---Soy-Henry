{
 "cells": [
  {
   "attachments": {},
   "cell_type": "markdown",
   "metadata": {},
   "source": [
    "## Funciones"
   ]
  },
  {
   "attachments": {},
   "cell_type": "markdown",
   "metadata": {},
   "source": [
    "1) Crear una función que reciba un número como parámetro y devuelva True si es primo y False si no lo es"
   ]
  },
  {
   "cell_type": "code",
   "execution_count": 9,
   "metadata": {},
   "outputs": [
    {
     "data": {
      "text/plain": [
       "True"
      ]
     },
     "execution_count": 9,
     "metadata": {},
     "output_type": "execute_result"
    }
   ],
   "source": [
    "def primo(a):\n",
    "    b=True\n",
    "    for i in range(2,a):  \n",
    "        if a%i==0:\n",
    "           b=False\n",
    "           break \n",
    "          \n",
    "    return b       \n",
    "\n",
    "primo(7)           "
   ]
  },
  {
   "attachments": {},
   "cell_type": "markdown",
   "metadata": {},
   "source": [
    "2) Utilizando la función del punto 1, realizar otra función que reciba de parámetro una lista de números y devuelva sólo aquellos que son primos en otra lista"
   ]
  },
  {
   "cell_type": "code",
   "execution_count": 7,
   "metadata": {},
   "outputs": [
    {
     "data": {
      "text/plain": [
       "[7, 5, 3, 11, 13]"
      ]
     },
     "execution_count": 7,
     "metadata": {},
     "output_type": "execute_result"
    }
   ],
   "source": [
    "def primo_extraccion(Lista):\n",
    "    #Funcion da True para primo y False para los demas\n",
    "    def primo(a):\n",
    "        b=True\n",
    "        for i in range(2,a):  \n",
    "            if a%i==0:\n",
    "               b=False\n",
    "               break \n",
    "             \n",
    "        return b \n",
    "\n",
    "    #Lee una lista de entrada y devuelve solo los numero primos\n",
    "    Lista_primo=[]\n",
    "    for i in Lista:\n",
    "        if primo(i):\n",
    "           Lista_primo.append(i)\n",
    "\n",
    "    return Lista_primo\n",
    "\n",
    "\n",
    "Lis=[7,5,6,3,11,13,14] \n",
    "\n",
    "primo_extraccion(Lis)\n"
   ]
  },
  {
   "attachments": {},
   "cell_type": "markdown",
   "metadata": {},
   "source": [
    "3) Crear una función que al recibir una lista de números, devuelva el que más se repite y cuántas veces lo hace. Si hay más de un \"más repetido\", que devuelva cualquiera"
   ]
  },
  {
   "cell_type": "code",
   "execution_count": 23,
   "metadata": {},
   "outputs": [
    {
     "name": "stdout",
     "output_type": "stream",
     "text": [
      "Se repite el numero 3 ,  4 veces\n"
     ]
    }
   ],
   "source": [
    "def cuenta_repetidos(lista):\n",
    "    valor=[]\n",
    "    cuenta=[]\n",
    "    for i in lista:\n",
    "        valor.append(i)\n",
    "        cuenta.append(lista.count(i))\n",
    "\n",
    "    return print(\"Se repite el numero\",valor[cuenta.index(max(cuenta))],\", \", max(cuenta), \"veces\") \n",
    "\n",
    "lis=[2,3,4,5,6,9,9,5,4,4,3,3,3]\n",
    "\n",
    "cuenta_repetidos(lis)\n"
   ]
  },
  {
   "attachments": {},
   "cell_type": "markdown",
   "metadata": {},
   "source": [
    "4) Crear una función que convierta entre grados Celsius, Farenheit y Kelvin<br>\n",
    "Fórmula 1\t: (°C × 9/5) + 32 = °F<br>\n",
    "Fórmula 2\t: °C + 273.15 = °K<br>\n",
    "Debe recibir 3 parámetros: el valor, la medida de orígen y la medida de destino\n"
   ]
  },
  {
   "cell_type": "code",
   "execution_count": 60,
   "metadata": {},
   "outputs": [
    {
     "name": "stdout",
     "output_type": "stream",
     "text": [
      "(70.1, 'Grados Farenheit', ' son ', 21.1667, 'Grados Celsius')\n",
      "(70.1, 'Grados Kelvin', ' son ', -203.05, 'Grados Celsius')\n",
      "(70.1, 'Grados Celsius', ' son ', 70.1, 'Grados Celsius')\n"
     ]
    }
   ],
   "source": [
    "def conversor_temperatura(v,e,s):\n",
    "    if e==\"Celsius\":\n",
    "        unidad_e=\"Grados Celsius\"\n",
    "        if s==\"Farenheit\":\n",
    "           salida=(v*9/5)+32\n",
    "           unidad_s=\"Grados Farenheit\"\n",
    "        elif s==\"Kelvin\":\n",
    "           salida=v+273.15\n",
    "           unidad_s=\"Grados Kelvin\"\n",
    "        else: \n",
    "           salida=v\n",
    "           unidad_s=\"Grados Celsius\"  \n",
    "\n",
    "\n",
    "\n",
    "    elif e==\"Farenheit\":\n",
    "        unidad_e=\"Grados Farenheit\"\n",
    "        if s==\"Celsius\":\n",
    "            salida=(v-32)*5/9\n",
    "            unidad_s=\"Grados Celsius\"\n",
    "        elif s==\"Kelvin\":\n",
    "            salida=((v-32)*5/9)+273.15\n",
    "            unidad_s=\"Grados Kelvin\"\n",
    "        else: \n",
    "            salida=v\n",
    "            unidad_s=\"Grados Farenheit\"   \n",
    "\n",
    "\n",
    "\n",
    "    elif e==\"Kelvin\":\n",
    "        unidad_e=\"Grados Kelvin\"\n",
    "        if s==\"Celsius\":    \n",
    "            salida=v-273.15\n",
    "            unidad_s=\"Grados Celsius\"\n",
    "        elif s==\"Farenheit\":\n",
    "            salida=((v-273.15)*9/5)+32\n",
    "            unidad_s=\"Grados Farenheit\" \n",
    "        else:  \n",
    "            salida=v\n",
    "            unidad_s=\"Grados Kelvin\"   \n",
    "\n",
    "    elif v!=int or v!=float:\n",
    "        print(\"Introduce un valor Numerico\")\n",
    "    else:\n",
    "        print(\"Expresion de Temperatura  No Valida\")    \n",
    "             \n",
    "\n",
    "    return v, unidad_e,\" son \", round(salida,4),unidad_s            \n",
    "\n",
    "\n",
    "\n",
    "print(conversor_temperatura(70.1,\"Farenheit\",\"Celsius\")) \n",
    "print(conversor_temperatura(70.1,\"Kelvin\",\"Celsius\")) \n",
    "print(conversor_temperatura(70.1,\"Celsius\",\"Celsius\"))                    \n"
   ]
  },
  {
   "attachments": {},
   "cell_type": "markdown",
   "metadata": {},
   "source": [
    "5) Iterando una lista con los tres valores posibles de temperatura que recibe la función del punto 5, hacer un print para cada combinación de los mismos:"
   ]
  },
  {
   "cell_type": "code",
   "execution_count": 61,
   "metadata": {},
   "outputs": [
    {
     "name": "stdout",
     "output_type": "stream",
     "text": [
      "(1, 'Grados Celsius', ' son ', 1, 'Grados Celsius')\n",
      "(1, 'Grados Celsius', ' son ', 33.8, 'Grados Farenheit')\n",
      "(1, 'Grados Celsius', ' son ', 274.15, 'Grados Kelvin')\n",
      "(1, 'Grados Farenheit', ' son ', -17.2222, 'Grados Celsius')\n",
      "(1, 'Grados Farenheit', ' son ', 1, 'Grados Farenheit')\n",
      "(1, 'Grados Farenheit', ' son ', 255.9278, 'Grados Kelvin')\n",
      "(1, 'Grados Kelvin', ' son ', -272.15, 'Grados Celsius')\n",
      "(1, 'Grados Kelvin', ' son ', -457.87, 'Grados Farenheit')\n",
      "(1, 'Grados Kelvin', ' son ', 1, 'Grados Kelvin')\n"
     ]
    }
   ],
   "source": [
    "lis_t=[\"Celsius\",\"Farenheit\",\"Kelvin\"]\n",
    "\n",
    "for i in lis_t:\n",
    "    for j in lis_t:\n",
    "        print(conversor_temperatura(1,i,j))\n",
    "\n"
   ]
  },
  {
   "attachments": {},
   "cell_type": "markdown",
   "metadata": {},
   "source": [
    "6) Armar una función que devuelva el factorial de un número. Tener en cuenta que el usuario puede equivocarse y enviar de parámetro un número no entero o negativo"
   ]
  },
  {
   "cell_type": "code",
   "execution_count": 68,
   "metadata": {},
   "outputs": [
    {
     "name": "stdout",
     "output_type": "stream",
     "text": [
      "120\n",
      "Help on function factorial in module __main__:\n",
      "\n",
      "factorial(num)\n",
      "    Calcula el factorial de un numero\n",
      "\n"
     ]
    }
   ],
   "source": [
    "#Como se me ocurrio sin recursividad\n",
    "def factorial_(a):\n",
    "    f=1\n",
    "    if not(a!= int):\n",
    "        print(\"Error: Solo se calcula para numero enteros\")\n",
    "    else: \n",
    "        while a>1:   \n",
    "            f=f*a\n",
    "            a-=1\n",
    "    return f\n",
    "\n",
    "\n",
    "\n",
    "#Metodo Recursivo\n",
    "def factorial(num):\n",
    "    #Permite guardar una descriptcion de la funcion al usar help()\n",
    "    ''' \n",
    "    Calcula el factorial de un numero\n",
    "    '''\n",
    "    if num>1:\n",
    "        num = num*factorial(num-1)\n",
    "\n",
    "    return num    \n",
    "\n",
    "\n",
    "\n",
    "print(factorial(5))\n",
    "\n",
    "help(factorial)"
   ]
  }
 ],
 "metadata": {
  "interpreter": {
   "hash": "c85384e4cb51c8b72350f3a8712cc8351fdc3955e32a27f9b60c6242ab125f01"
  },
  "kernelspec": {
   "display_name": "Python 3 (ipykernel)",
   "language": "python",
   "name": "python3"
  },
  "language_info": {
   "codemirror_mode": {
    "name": "ipython",
    "version": 3
   },
   "file_extension": ".py",
   "mimetype": "text/x-python",
   "name": "python",
   "nbconvert_exporter": "python",
   "pygments_lexer": "ipython3",
   "version": "3.11.4"
  }
 },
 "nbformat": 4,
 "nbformat_minor": 4
}
